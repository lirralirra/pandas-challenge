{
 "cells": [
  {
   "cell_type": "markdown",
   "metadata": {},
   "source": [
    "# PyCity Schools Analysis\n",
    "\n",
    "* Your analysis here\n",
    "---"
   ]
  },
  {
   "cell_type": "code",
   "execution_count": 11,
   "metadata": {},
   "outputs": [
    {
     "data": {
      "text/html": [
       "<div>\n",
       "<style scoped>\n",
       "    .dataframe tbody tr th:only-of-type {\n",
       "        vertical-align: middle;\n",
       "    }\n",
       "\n",
       "    .dataframe tbody tr th {\n",
       "        vertical-align: top;\n",
       "    }\n",
       "\n",
       "    .dataframe thead th {\n",
       "        text-align: right;\n",
       "    }\n",
       "</style>\n",
       "<table border=\"1\" class=\"dataframe\">\n",
       "  <thead>\n",
       "    <tr style=\"text-align: right;\">\n",
       "      <th></th>\n",
       "      <th>Student ID</th>\n",
       "      <th>student_name</th>\n",
       "      <th>gender</th>\n",
       "      <th>year</th>\n",
       "      <th>school_name</th>\n",
       "      <th>reading_score</th>\n",
       "      <th>maths_score</th>\n",
       "      <th>School ID</th>\n",
       "      <th>type</th>\n",
       "      <th>size</th>\n",
       "      <th>budget</th>\n",
       "    </tr>\n",
       "  </thead>\n",
       "  <tbody>\n",
       "    <tr>\n",
       "      <th>0</th>\n",
       "      <td>0</td>\n",
       "      <td>Paul Bradley</td>\n",
       "      <td>M</td>\n",
       "      <td>9</td>\n",
       "      <td>Huang High School</td>\n",
       "      <td>96</td>\n",
       "      <td>94</td>\n",
       "      <td>0</td>\n",
       "      <td>Government</td>\n",
       "      <td>2917</td>\n",
       "      <td>1910635</td>\n",
       "    </tr>\n",
       "    <tr>\n",
       "      <th>1</th>\n",
       "      <td>1</td>\n",
       "      <td>Victor Smith</td>\n",
       "      <td>M</td>\n",
       "      <td>12</td>\n",
       "      <td>Huang High School</td>\n",
       "      <td>90</td>\n",
       "      <td>43</td>\n",
       "      <td>0</td>\n",
       "      <td>Government</td>\n",
       "      <td>2917</td>\n",
       "      <td>1910635</td>\n",
       "    </tr>\n",
       "    <tr>\n",
       "      <th>2</th>\n",
       "      <td>2</td>\n",
       "      <td>Kevin Rodriguez</td>\n",
       "      <td>M</td>\n",
       "      <td>12</td>\n",
       "      <td>Huang High School</td>\n",
       "      <td>41</td>\n",
       "      <td>76</td>\n",
       "      <td>0</td>\n",
       "      <td>Government</td>\n",
       "      <td>2917</td>\n",
       "      <td>1910635</td>\n",
       "    </tr>\n",
       "    <tr>\n",
       "      <th>3</th>\n",
       "      <td>3</td>\n",
       "      <td>Richard Scott</td>\n",
       "      <td>M</td>\n",
       "      <td>12</td>\n",
       "      <td>Huang High School</td>\n",
       "      <td>89</td>\n",
       "      <td>86</td>\n",
       "      <td>0</td>\n",
       "      <td>Government</td>\n",
       "      <td>2917</td>\n",
       "      <td>1910635</td>\n",
       "    </tr>\n",
       "    <tr>\n",
       "      <th>4</th>\n",
       "      <td>4</td>\n",
       "      <td>Bonnie Ray</td>\n",
       "      <td>F</td>\n",
       "      <td>9</td>\n",
       "      <td>Huang High School</td>\n",
       "      <td>87</td>\n",
       "      <td>69</td>\n",
       "      <td>0</td>\n",
       "      <td>Government</td>\n",
       "      <td>2917</td>\n",
       "      <td>1910635</td>\n",
       "    </tr>\n",
       "    <tr>\n",
       "      <th>...</th>\n",
       "      <td>...</td>\n",
       "      <td>...</td>\n",
       "      <td>...</td>\n",
       "      <td>...</td>\n",
       "      <td>...</td>\n",
       "      <td>...</td>\n",
       "      <td>...</td>\n",
       "      <td>...</td>\n",
       "      <td>...</td>\n",
       "      <td>...</td>\n",
       "      <td>...</td>\n",
       "    </tr>\n",
       "    <tr>\n",
       "      <th>39165</th>\n",
       "      <td>39165</td>\n",
       "      <td>Donna Howard</td>\n",
       "      <td>F</td>\n",
       "      <td>12</td>\n",
       "      <td>Thomas High School</td>\n",
       "      <td>51</td>\n",
       "      <td>48</td>\n",
       "      <td>14</td>\n",
       "      <td>Independent</td>\n",
       "      <td>1635</td>\n",
       "      <td>1043130</td>\n",
       "    </tr>\n",
       "    <tr>\n",
       "      <th>39166</th>\n",
       "      <td>39166</td>\n",
       "      <td>Dawn Bell</td>\n",
       "      <td>F</td>\n",
       "      <td>10</td>\n",
       "      <td>Thomas High School</td>\n",
       "      <td>81</td>\n",
       "      <td>89</td>\n",
       "      <td>14</td>\n",
       "      <td>Independent</td>\n",
       "      <td>1635</td>\n",
       "      <td>1043130</td>\n",
       "    </tr>\n",
       "    <tr>\n",
       "      <th>39167</th>\n",
       "      <td>39167</td>\n",
       "      <td>Rebecca Tanner</td>\n",
       "      <td>F</td>\n",
       "      <td>9</td>\n",
       "      <td>Thomas High School</td>\n",
       "      <td>99</td>\n",
       "      <td>99</td>\n",
       "      <td>14</td>\n",
       "      <td>Independent</td>\n",
       "      <td>1635</td>\n",
       "      <td>1043130</td>\n",
       "    </tr>\n",
       "    <tr>\n",
       "      <th>39168</th>\n",
       "      <td>39168</td>\n",
       "      <td>Desiree Kidd</td>\n",
       "      <td>F</td>\n",
       "      <td>10</td>\n",
       "      <td>Thomas High School</td>\n",
       "      <td>72</td>\n",
       "      <td>77</td>\n",
       "      <td>14</td>\n",
       "      <td>Independent</td>\n",
       "      <td>1635</td>\n",
       "      <td>1043130</td>\n",
       "    </tr>\n",
       "    <tr>\n",
       "      <th>39169</th>\n",
       "      <td>39169</td>\n",
       "      <td>Carolyn Jackson</td>\n",
       "      <td>F</td>\n",
       "      <td>11</td>\n",
       "      <td>Thomas High School</td>\n",
       "      <td>47</td>\n",
       "      <td>62</td>\n",
       "      <td>14</td>\n",
       "      <td>Independent</td>\n",
       "      <td>1635</td>\n",
       "      <td>1043130</td>\n",
       "    </tr>\n",
       "  </tbody>\n",
       "</table>\n",
       "<p>39170 rows × 11 columns</p>\n",
       "</div>"
      ],
      "text/plain": [
       "       Student ID     student_name gender  year         school_name  \\\n",
       "0               0     Paul Bradley      M     9   Huang High School   \n",
       "1               1     Victor Smith      M    12   Huang High School   \n",
       "2               2  Kevin Rodriguez      M    12   Huang High School   \n",
       "3               3    Richard Scott      M    12   Huang High School   \n",
       "4               4       Bonnie Ray      F     9   Huang High School   \n",
       "...           ...              ...    ...   ...                 ...   \n",
       "39165       39165     Donna Howard      F    12  Thomas High School   \n",
       "39166       39166        Dawn Bell      F    10  Thomas High School   \n",
       "39167       39167   Rebecca Tanner      F     9  Thomas High School   \n",
       "39168       39168     Desiree Kidd      F    10  Thomas High School   \n",
       "39169       39169  Carolyn Jackson      F    11  Thomas High School   \n",
       "\n",
       "       reading_score  maths_score  School ID         type  size   budget  \n",
       "0                 96           94          0   Government  2917  1910635  \n",
       "1                 90           43          0   Government  2917  1910635  \n",
       "2                 41           76          0   Government  2917  1910635  \n",
       "3                 89           86          0   Government  2917  1910635  \n",
       "4                 87           69          0   Government  2917  1910635  \n",
       "...              ...          ...        ...          ...   ...      ...  \n",
       "39165             51           48         14  Independent  1635  1043130  \n",
       "39166             81           89         14  Independent  1635  1043130  \n",
       "39167             99           99         14  Independent  1635  1043130  \n",
       "39168             72           77         14  Independent  1635  1043130  \n",
       "39169             47           62         14  Independent  1635  1043130  \n",
       "\n",
       "[39170 rows x 11 columns]"
      ]
     },
     "execution_count": 11,
     "metadata": {},
     "output_type": "execute_result"
    }
   ],
   "source": [
    "# Dependencies and Setup\n",
    "from pathlib import Path\n",
    "import pandas as pd\n",
    "\n",
    "# File to Load (Remember to Change These)\n",
    "school_data_to_load = Path(\"Resources/schools_complete.csv\")\n",
    "student_data_to_load = Path(\"Resources/students_complete.csv\")\n",
    "\n",
    "# Read School and Student Data File and store into Pandas DataFrames\n",
    "school_data = pd.read_csv(school_data_to_load)\n",
    "student_data = pd.read_csv(student_data_to_load)\n",
    "\n",
    "# Combine the data into a single dataset.\n",
    "school_data_complete = pd.merge(student_data, school_data, how=\"left\", on=\"school_name\")\n",
    "\n",
    "#View data\n",
    "school_data_complete"
   ]
  },
  {
   "cell_type": "markdown",
   "metadata": {},
   "source": [
    "## Local Government Area Summary"
   ]
  },
  {
   "cell_type": "code",
   "execution_count": 2,
   "metadata": {},
   "outputs": [
    {
     "data": {
      "text/plain": [
       "32655"
      ]
     },
     "execution_count": 2,
     "metadata": {},
     "output_type": "execute_result"
    }
   ],
   "source": [
    "# Calculate the Totals (Schools and Students)\n",
    "school_count = school_data_complete[\"school_name\"].nunique()\n",
    "student_count = school_data_complete[\"student_name\"].nunique()\n",
    "\n",
    "# Calculate the Total Budget\n",
    "total_budget = school_data_complete[\"budget\"].sum()\n",
    "\n",
    "student_count"
   ]
  },
  {
   "cell_type": "code",
   "execution_count": 3,
   "metadata": {},
   "outputs": [],
   "source": [
    "# Calculate the Average Scores\n",
    "average_maths_score = school_data_complete[\"maths_score\"].mean()\n",
    "average_reading_score = school_data_complete[\"reading_score\"].mean()\n"
   ]
  },
  {
   "cell_type": "code",
   "execution_count": 4,
   "metadata": {},
   "outputs": [],
   "source": [
    "# Calculate the Percentage Pass Rates\n",
    "passing_maths_count = school_data_complete[(school_data_complete[\"maths_score\"] >= 50)].count()[\"student_name\"]\n",
    "passing_maths_percentage = passing_maths_count / float(student_count) * 100\n",
    "passing_reading_count = school_data_complete[(school_data_complete[\"reading_score\"] >= 50)].count()[\"student_name\"]\n",
    "passing_reading_percentage =  passing_reading_count  / float(student_count) * 100\n",
    "\n",
    "passing_maths_reading_count = school_data_complete[ (school_data_complete[\"maths_score\"] >= 50) & \n",
    "    (school_data_complete[\"reading_score\"] >= 50)].count()[\"student_name\"]\n",
    "\n",
    "overall_passing_rate = passing_maths_reading_count/float(student_count) * 100\n"
   ]
  },
  {
   "cell_type": "code",
   "execution_count": 6,
   "metadata": {},
   "outputs": [
    {
     "data": {
      "text/html": [
       "<div>\n",
       "<style scoped>\n",
       "    .dataframe tbody tr th:only-of-type {\n",
       "        vertical-align: middle;\n",
       "    }\n",
       "\n",
       "    .dataframe tbody tr th {\n",
       "        vertical-align: top;\n",
       "    }\n",
       "\n",
       "    .dataframe thead th {\n",
       "        text-align: right;\n",
       "    }\n",
       "</style>\n",
       "<table border=\"1\" class=\"dataframe\">\n",
       "  <thead>\n",
       "    <tr style=\"text-align: right;\">\n",
       "      <th></th>\n",
       "      <th>school_count</th>\n",
       "      <th>Total Students</th>\n",
       "      <th>Total Budget</th>\n",
       "      <th>average_maths_score</th>\n",
       "      <th>average_reading_score</th>\n",
       "      <th>passing_maths_count</th>\n",
       "      <th>passing_maths_percentage</th>\n",
       "      <th>passing_reading_count</th>\n",
       "      <th>passing_reading_percentage</th>\n",
       "      <th>passing_maths_reading_count</th>\n",
       "      <th>overall_passing_rate</th>\n",
       "    </tr>\n",
       "  </thead>\n",
       "  <tbody>\n",
       "    <tr>\n",
       "      <th>0</th>\n",
       "      <td>15</td>\n",
       "      <td>32,655</td>\n",
       "      <td>$82,932,329,558.00</td>\n",
       "      <td>70.338192</td>\n",
       "      <td>69.980138</td>\n",
       "      <td>33717</td>\n",
       "      <td>103.252182</td>\n",
       "      <td>33070</td>\n",
       "      <td>101.270862</td>\n",
       "      <td>28519</td>\n",
       "      <td>87.334252</td>\n",
       "    </tr>\n",
       "  </tbody>\n",
       "</table>\n",
       "</div>"
      ],
      "text/plain": [
       "   school_count Total Students        Total Budget  average_maths_score  \\\n",
       "0            15         32,655  $82,932,329,558.00            70.338192   \n",
       "\n",
       "   average_reading_score  passing_maths_count  passing_maths_percentage  \\\n",
       "0              69.980138                33717                103.252182   \n",
       "\n",
       "   passing_reading_count  passing_reading_percentage  \\\n",
       "0                  33070                  101.270862   \n",
       "\n",
       "   passing_maths_reading_count  overall_passing_rate  \n",
       "0                        28519             87.334252  "
      ]
     },
     "execution_count": 6,
     "metadata": {},
     "output_type": "execute_result"
    }
   ],
   "source": [
    "# Convert to DataFrame\n",
    "area_summary = pd.DataFrame({\n",
    "    \"school_count\": [school_count], \n",
    "    \"Total Students\": [student_count],\n",
    "    \"Total Budget\": [total_budget],\n",
    "    \"average_maths_score\": [average_maths_score],\n",
    "    \"average_reading_score\": [average_reading_score],\n",
    "    \"passing_maths_count\": [passing_maths_count],\n",
    "    \"passing_maths_percentage\": [passing_maths_percentage],\n",
    "    \"passing_reading_count\": [passing_reading_count],\n",
    "    \"passing_reading_percentage\": [passing_reading_percentage],\n",
    "    \"passing_maths_reading_count\": [passing_maths_reading_count],\n",
    "    \"overall_passing_rate\": [overall_passing_rate]\n",
    "})\n",
    "\n",
    "# Formatting\n",
    "area_summary[\"Total Students\"] = area_summary[\"Total Students\"].map(\"{:,}\".format)\n",
    "area_summary[\"Total Budget\"] = area_summary[\"Total Budget\"].map(\"${:,.2f}\".format)\n",
    "\n",
    "# Display the DataFrame\n",
    "area_summary\n"
   ]
  },
  {
   "cell_type": "markdown",
   "metadata": {},
   "source": [
    "## School Summary"
   ]
  },
  {
   "cell_type": "code",
   "execution_count": 12,
   "metadata": {},
   "outputs": [
    {
     "data": {
      "text/html": [
       "<div>\n",
       "<style scoped>\n",
       "    .dataframe tbody tr th:only-of-type {\n",
       "        vertical-align: middle;\n",
       "    }\n",
       "\n",
       "    .dataframe tbody tr th {\n",
       "        vertical-align: top;\n",
       "    }\n",
       "\n",
       "    .dataframe thead th {\n",
       "        text-align: right;\n",
       "    }\n",
       "</style>\n",
       "<table border=\"1\" class=\"dataframe\">\n",
       "  <thead>\n",
       "    <tr style=\"text-align: right;\">\n",
       "      <th></th>\n",
       "      <th>School ID</th>\n",
       "      <th>school_name</th>\n",
       "      <th>type</th>\n",
       "      <th>size</th>\n",
       "      <th>budget</th>\n",
       "    </tr>\n",
       "  </thead>\n",
       "  <tbody>\n",
       "    <tr>\n",
       "      <th>0</th>\n",
       "      <td>0</td>\n",
       "      <td>Huang High School</td>\n",
       "      <td>Government</td>\n",
       "      <td>2917</td>\n",
       "      <td>1910635</td>\n",
       "    </tr>\n",
       "    <tr>\n",
       "      <th>1</th>\n",
       "      <td>1</td>\n",
       "      <td>Figueroa High School</td>\n",
       "      <td>Government</td>\n",
       "      <td>2949</td>\n",
       "      <td>1884411</td>\n",
       "    </tr>\n",
       "    <tr>\n",
       "      <th>2</th>\n",
       "      <td>2</td>\n",
       "      <td>Shelton High School</td>\n",
       "      <td>Independent</td>\n",
       "      <td>1761</td>\n",
       "      <td>1056600</td>\n",
       "    </tr>\n",
       "    <tr>\n",
       "      <th>3</th>\n",
       "      <td>3</td>\n",
       "      <td>Hernandez High School</td>\n",
       "      <td>Government</td>\n",
       "      <td>4635</td>\n",
       "      <td>3022020</td>\n",
       "    </tr>\n",
       "    <tr>\n",
       "      <th>4</th>\n",
       "      <td>4</td>\n",
       "      <td>Griffin High School</td>\n",
       "      <td>Independent</td>\n",
       "      <td>1468</td>\n",
       "      <td>917500</td>\n",
       "    </tr>\n",
       "    <tr>\n",
       "      <th>5</th>\n",
       "      <td>5</td>\n",
       "      <td>Wilson High School</td>\n",
       "      <td>Independent</td>\n",
       "      <td>2283</td>\n",
       "      <td>1319574</td>\n",
       "    </tr>\n",
       "    <tr>\n",
       "      <th>6</th>\n",
       "      <td>6</td>\n",
       "      <td>Cabrera High School</td>\n",
       "      <td>Independent</td>\n",
       "      <td>1858</td>\n",
       "      <td>1081356</td>\n",
       "    </tr>\n",
       "    <tr>\n",
       "      <th>7</th>\n",
       "      <td>7</td>\n",
       "      <td>Bailey High School</td>\n",
       "      <td>Government</td>\n",
       "      <td>4976</td>\n",
       "      <td>3124928</td>\n",
       "    </tr>\n",
       "    <tr>\n",
       "      <th>8</th>\n",
       "      <td>8</td>\n",
       "      <td>Holden High School</td>\n",
       "      <td>Independent</td>\n",
       "      <td>427</td>\n",
       "      <td>248087</td>\n",
       "    </tr>\n",
       "    <tr>\n",
       "      <th>9</th>\n",
       "      <td>9</td>\n",
       "      <td>Pena High School</td>\n",
       "      <td>Independent</td>\n",
       "      <td>962</td>\n",
       "      <td>585858</td>\n",
       "    </tr>\n",
       "    <tr>\n",
       "      <th>10</th>\n",
       "      <td>10</td>\n",
       "      <td>Wright High School</td>\n",
       "      <td>Independent</td>\n",
       "      <td>1800</td>\n",
       "      <td>1049400</td>\n",
       "    </tr>\n",
       "    <tr>\n",
       "      <th>11</th>\n",
       "      <td>11</td>\n",
       "      <td>Rodriguez High School</td>\n",
       "      <td>Government</td>\n",
       "      <td>3999</td>\n",
       "      <td>2547363</td>\n",
       "    </tr>\n",
       "    <tr>\n",
       "      <th>12</th>\n",
       "      <td>12</td>\n",
       "      <td>Johnson High School</td>\n",
       "      <td>Government</td>\n",
       "      <td>4761</td>\n",
       "      <td>3094650</td>\n",
       "    </tr>\n",
       "    <tr>\n",
       "      <th>13</th>\n",
       "      <td>13</td>\n",
       "      <td>Ford High School</td>\n",
       "      <td>Government</td>\n",
       "      <td>2739</td>\n",
       "      <td>1763916</td>\n",
       "    </tr>\n",
       "    <tr>\n",
       "      <th>14</th>\n",
       "      <td>14</td>\n",
       "      <td>Thomas High School</td>\n",
       "      <td>Independent</td>\n",
       "      <td>1635</td>\n",
       "      <td>1043130</td>\n",
       "    </tr>\n",
       "  </tbody>\n",
       "</table>\n",
       "</div>"
      ],
      "text/plain": [
       "    School ID            school_name         type  size   budget\n",
       "0           0      Huang High School   Government  2917  1910635\n",
       "1           1   Figueroa High School   Government  2949  1884411\n",
       "2           2    Shelton High School  Independent  1761  1056600\n",
       "3           3  Hernandez High School   Government  4635  3022020\n",
       "4           4    Griffin High School  Independent  1468   917500\n",
       "5           5     Wilson High School  Independent  2283  1319574\n",
       "6           6    Cabrera High School  Independent  1858  1081356\n",
       "7           7     Bailey High School   Government  4976  3124928\n",
       "8           8     Holden High School  Independent   427   248087\n",
       "9           9       Pena High School  Independent   962   585858\n",
       "10         10     Wright High School  Independent  1800  1049400\n",
       "11         11  Rodriguez High School   Government  3999  2547363\n",
       "12         12    Johnson High School   Government  4761  3094650\n",
       "13         13       Ford High School   Government  2739  1763916\n",
       "14         14     Thomas High School  Independent  1635  1043130"
      ]
     },
     "execution_count": 12,
     "metadata": {},
     "output_type": "execute_result"
    }
   ],
   "source": [
    "school_data"
   ]
  },
  {
   "cell_type": "code",
   "execution_count": 14,
   "metadata": {},
   "outputs": [
    {
     "ename": "TypeError",
     "evalue": "unsupported operand type(s) for /: 'method' and 'method'",
     "output_type": "error",
     "traceback": [
      "\u001b[0;31m---------------------------------------------------------------------------\u001b[0m",
      "\u001b[0;31mTypeError\u001b[0m                                 Traceback (most recent call last)",
      "Cell \u001b[0;32mIn[14], line 9\u001b[0m\n\u001b[1;32m      7\u001b[0m \u001b[38;5;66;03m# Calculate the total school budget and per capita spending per school from school_data\u001b[39;00m\n\u001b[1;32m      8\u001b[0m per_school_budget \u001b[38;5;241m=\u001b[39m school_data\u001b[38;5;241m.\u001b[39mgroupby(\u001b[38;5;124m'\u001b[39m\u001b[38;5;124mschool_name\u001b[39m\u001b[38;5;124m'\u001b[39m)[\u001b[38;5;124m'\u001b[39m\u001b[38;5;124mbudget\u001b[39m\u001b[38;5;124m'\u001b[39m]\u001b[38;5;241m.\u001b[39msum\n\u001b[0;32m----> 9\u001b[0m per_school_capita \u001b[38;5;241m=\u001b[39m \u001b[43mper_school_budget\u001b[49m\u001b[38;5;241;43m/\u001b[39;49m\u001b[43mper_school_counts\u001b[49m\n\u001b[1;32m     11\u001b[0m \u001b[38;5;66;03m# Calculate the average test scores per school from school_data_complete\u001b[39;00m\n\u001b[1;32m     12\u001b[0m per_school_maths \u001b[38;5;241m=\u001b[39m school_data_complete\u001b[38;5;241m.\u001b[39mgroupby(\u001b[38;5;124m\"\u001b[39m\u001b[38;5;124mschool_name\u001b[39m\u001b[38;5;124m\"\u001b[39m)[\u001b[38;5;124m\"\u001b[39m\u001b[38;5;124mmaths_score\u001b[39m\u001b[38;5;124m\"\u001b[39m]\u001b[38;5;241m.\u001b[39mmean\n",
      "\u001b[0;31mTypeError\u001b[0m: unsupported operand type(s) for /: 'method' and 'method'"
     ]
    }
   ],
   "source": [
    "# Use the code provided to select the type per school from school_data\n",
    "school_types = school_data.set_index([\"school_name\"])[\"type\"]\n",
    "\n",
    "# Calculate the total student count per school from school_data\n",
    "per_school_counts = school_data.groupby(\"school_name\")[\"size\"].sum()\n",
    "\n",
    "# Calculate the total school budget and per capita spending per school from school_data\n",
    "per_school_budget = school_data.groupby('school_name')['budget'].sum()\n",
    "per_school_capita = per_school_budget/per_school_counts\n",
    "\n",
    "# Calculate the average test scores per school from school_data_complete\n",
    "per_school_maths = school_data_complete.groupby(\"school_name\")[\"maths_score\"].mean\n",
    "per_school_reading = school_data_complete.groupby(\"school_name\")[\"reading_score\"].mean\n"
   ]
  },
  {
   "cell_type": "code",
   "execution_count": null,
   "metadata": {},
   "outputs": [],
   "source": [
    "# Get the students who passed maths and passed reading by creating separate filtered DataFrames from school_data_complete.\n",
    "school_passing_maths =\n",
    "school_passing_reading =\n",
    "\n",
    "# Get the students who passed both reading and maths in a separate DataFrame from school_data_complete.\n",
    "passing_maths_and_reading =\n"
   ]
  },
  {
   "cell_type": "code",
   "execution_count": null,
   "metadata": {},
   "outputs": [],
   "source": [
    "#  Calculate the Percentage Pass Rates\n",
    "per_school_passing_maths =\n",
    "per_school_passing_reading =\n",
    "overall_passing_rate =\n"
   ]
  },
  {
   "cell_type": "code",
   "execution_count": null,
   "metadata": {},
   "outputs": [],
   "source": [
    "# Convert to DataFrame\n",
    "per_school_summary =\n",
    "\n",
    "# Formatting\n",
    "per_school_summary[\"Total School Budget\"] = per_school_summary[\"Total School Budget\"].map(\"${:,.2f}\".format)\n",
    "per_school_summary[\"Per Student Budget\"] = per_school_summary[\"Per Student Budget\"].map(\"${:,.2f}\".format)\n",
    "\n",
    "# Display the DataFrame\n",
    "per_school_summary\n"
   ]
  },
  {
   "cell_type": "markdown",
   "metadata": {},
   "source": [
    "## Top Performing Schools (By % Overall Passing)"
   ]
  },
  {
   "cell_type": "code",
   "execution_count": null,
   "metadata": {
    "scrolled": true
   },
   "outputs": [],
   "source": [
    "# Sort and show top five schools\n",
    "top_schools =\n",
    "top_schools.head(5)\n"
   ]
  },
  {
   "cell_type": "markdown",
   "metadata": {},
   "source": [
    "## Bottom Performing Schools (By % Overall Passing)"
   ]
  },
  {
   "cell_type": "code",
   "execution_count": null,
   "metadata": {},
   "outputs": [],
   "source": [
    "# Sort and show bottom five schools\n",
    "bottom_schools =\n",
    "bottom_schools.head(5)\n"
   ]
  },
  {
   "cell_type": "markdown",
   "metadata": {
    "collapsed": true,
    "jupyter": {
     "outputs_hidden": true
    }
   },
   "source": [
    "## Maths Scores by Year"
   ]
  },
  {
   "cell_type": "code",
   "execution_count": null,
   "metadata": {},
   "outputs": [],
   "source": [
    "# Create data series of scores by year levels using conditionals\n",
    "year_nine = school_data_complete[(school_data_complete[\"year\"] == 9)]\n",
    "year_ten = school_data_complete[(school_data_complete[\"year\"] == 10)]\n",
    "year_eleven = school_data_complete[(school_data_complete[\"year\"] == 11)]\n",
    "year_twelve = school_data_complete[(school_data_complete[\"year\"] == 12)]\n",
    "\n",
    "# Group each by school name\n",
    "year_nine_scores =\n",
    "year_ten_scores =\n",
    "year_eleven_scores =\n",
    "year_twelve_scores =\n",
    "\n",
    "# Combine series into single DataFrame\n",
    "maths_scores_by_year =\n",
    "\n",
    "# Minor data wrangling\n",
    "maths_scores_by_year.index.name = None\n",
    "\n",
    "# Display the DataFrame\n",
    "maths_scores_by_year\n"
   ]
  },
  {
   "cell_type": "markdown",
   "metadata": {},
   "source": [
    "## Reading Score by Year"
   ]
  },
  {
   "cell_type": "code",
   "execution_count": null,
   "metadata": {},
   "outputs": [],
   "source": [
    "# Create data series of scores by year levels using conditionals\n",
    "year_nine = school_data_complete[(school_data_complete[\"year\"] == 9)]\n",
    "year_ten = school_data_complete[(school_data_complete[\"year\"] == 10)]\n",
    "year_eleven = school_data_complete[(school_data_complete[\"year\"] == 11)]\n",
    "year_twelve = school_data_complete[(school_data_complete[\"year\"] == 12)]\n",
    "\n",
    "# Group each by school name\n",
    "year_nine_scores =\n",
    "year_ten_scores =\n",
    "year_eleven_scores =\n",
    "year_twelve_scores =\n",
    "\n",
    "# Combine series into single DataFrame\n",
    "reading_scores_by_year =\n",
    "\n",
    "# Minor data wrangling\n",
    "reading_scores_by_year.index.name = None\n",
    "\n",
    "# Display the DataFrame\n",
    "reading_scores_by_year\n"
   ]
  },
  {
   "cell_type": "markdown",
   "metadata": {},
   "source": [
    "## Scores by School Spending"
   ]
  },
  {
   "cell_type": "code",
   "execution_count": null,
   "metadata": {},
   "outputs": [],
   "source": [
    "# Establish the bins\n",
    "spending_bins = [0, 585, 630, 645, 680]\n",
    "group_names = [\"<$585\", \"$585-630\", \"$630-645\", \"$645-680\"]\n"
   ]
  },
  {
   "cell_type": "code",
   "execution_count": null,
   "metadata": {},
   "outputs": [],
   "source": [
    "# Create a copy of the school summary for later aggregations\n",
    "# This step can be skipped but it's best to make a copy.\n",
    "school_spending_df = per_school_summary.copy()\n"
   ]
  },
  {
   "cell_type": "code",
   "execution_count": null,
   "metadata": {},
   "outputs": [],
   "source": [
    "# Use `pd.cut` on the per_school_capita Series from earlier to categorise per student spending based on the bins.\n",
    "school_spending_df[\"Spending Ranges (Per Student)\"] =\n",
    "\n",
    "# Convert Spending Ranges (Per Student) to a string\n",
    "school_spending_df[\"Spending Ranges (Per Student)\"] = school_spending_df[\"Spending Ranges (Per Student)\"].astype(str)\n",
    "school_spending_df\n"
   ]
  },
  {
   "cell_type": "code",
   "execution_count": null,
   "metadata": {},
   "outputs": [],
   "source": [
    "#  Calculate averages for the desired columns.\n",
    "spending_maths_scores = school_spending_df.groupby([\"Spending Ranges (Per Student)\"])[\"Average Maths Score\"].mean()\n",
    "spending_reading_scores = school_spending_df.groupby([\"Spending Ranges (Per Student)\"])[\"Average Reading Score\"].mean()\n",
    "spending_passing_maths = school_spending_df.groupby([\"Spending Ranges (Per Student)\"])[\"% Passing Maths\"].mean()\n",
    "spending_passing_reading = school_spending_df.groupby([\"Spending Ranges (Per Student)\"])[\"% Passing Reading\"].mean()\n",
    "overall_passing_spending = school_spending_df.groupby([\"Spending Ranges (Per Student)\"])[\"% Overall Passing\"].mean()\n"
   ]
  },
  {
   "cell_type": "code",
   "execution_count": null,
   "metadata": {},
   "outputs": [],
   "source": [
    "# Assemble into DataFrame\n",
    "spending_summary =\n",
    "\n",
    "# Display results\n",
    "spending_summary\n"
   ]
  },
  {
   "cell_type": "markdown",
   "metadata": {},
   "source": [
    "## Scores by School Size"
   ]
  },
  {
   "cell_type": "code",
   "execution_count": null,
   "metadata": {},
   "outputs": [],
   "source": [
    "# Establish the bins.\n",
    "size_bins = [0, 1000, 2000, 5000]\n",
    "group_names = [\"Small (<1000)\", \"Medium (1000-2000)\", \"Large (2000-5000)\"]\n"
   ]
  },
  {
   "cell_type": "code",
   "execution_count": null,
   "metadata": {},
   "outputs": [],
   "source": [
    "# Create a copy of the school summary for later aggregations\n",
    "# This step can be skipped but it's best to make a copy.\n",
    "school_size_df = per_school_summary.copy()\n"
   ]
  },
  {
   "cell_type": "code",
   "execution_count": null,
   "metadata": {},
   "outputs": [],
   "source": [
    "# Use `pd.cut` on the per_school_counts Series from earlier to categorise school size based on the bins.\n",
    "school_size_df[\"School Size\"] =\n",
    "\n",
    "# Convert School Size to a string\n",
    "school_size_df[\"School Size\"] = school_size_df[\"School Size\"].astype(str)\n",
    "school_size_df"
   ]
  },
  {
   "cell_type": "code",
   "execution_count": null,
   "metadata": {},
   "outputs": [],
   "source": [
    "# Calculate averages for the desired columns.\n",
    "size_maths_scores = school_size_df.groupby([\"School Size\"])[\"Average Maths Score\"].mean()\n",
    "size_reading_scores = school_size_df.groupby([\"School Size\"])[\"Average Reading Score\"].mean()\n",
    "size_passing_maths = school_size_df.groupby([\"School Size\"])[\"% Passing Maths\"].mean()\n",
    "size_passing_reading = school_size_df.groupby([\"School Size\"])[\"% Passing Reading\"].mean()\n",
    "size_overall_passing = school_size_df.groupby([\"School Size\"])[\"% Overall Passing\"].mean()\n"
   ]
  },
  {
   "cell_type": "code",
   "execution_count": null,
   "metadata": {
    "scrolled": true
   },
   "outputs": [],
   "source": [
    "# Assemble into DataFrame\n",
    "size_summary =\n",
    "\n",
    "# Display results\n",
    "size_summary\n"
   ]
  },
  {
   "cell_type": "markdown",
   "metadata": {},
   "source": [
    "## Scores by School Type"
   ]
  },
  {
   "cell_type": "code",
   "execution_count": null,
   "metadata": {},
   "outputs": [],
   "source": [
    "# Create new series using groupby for:\n",
    "# Type | Average Maths Score | Average Reading Score | % Passing Maths | % Passing Reading | % Overall Passing\n",
    "\n",
    "type_maths_scores = per_school_summary.groupby([\"School Type\"])[\"Average Maths Score\"].mean()\n",
    "type_reading_scores = per_school_summary.groupby([\"School Type\"])[\"Average Reading Score\"].mean()\n",
    "type_passing_maths = per_school_summary.groupby([\"School Type\"])[\"% Passing Maths\"].mean()\n",
    "type_passing_reading = per_school_summary.groupby([\"School Type\"])[\"% Passing Reading\"].mean()\n",
    "type_overall_passing = per_school_summary.groupby([\"School Type\"])[\"% Overall Passing\"].mean()\n"
   ]
  },
  {
   "cell_type": "code",
   "execution_count": null,
   "metadata": {},
   "outputs": [],
   "source": [
    "# Assemble into DataFrame\n",
    "type_summary =\n",
    "\n",
    "# Display results\n",
    "type_summary\n"
   ]
  },
  {
   "cell_type": "code",
   "execution_count": null,
   "metadata": {},
   "outputs": [],
   "source": []
  }
 ],
 "metadata": {
  "anaconda-cloud": {},
  "kernel_info": {
   "name": "python3"
  },
  "kernelspec": {
   "display_name": "Python 3 (ipykernel)",
   "language": "python",
   "name": "python3"
  },
  "language_info": {
   "codemirror_mode": {
    "name": "ipython",
    "version": 3
   },
   "file_extension": ".py",
   "mimetype": "text/x-python",
   "name": "python",
   "nbconvert_exporter": "python",
   "pygments_lexer": "ipython3",
   "version": "3.10.14"
  },
  "latex_envs": {
   "LaTeX_envs_menu_present": true,
   "autoclose": false,
   "autocomplete": true,
   "bibliofile": "biblio.bib",
   "cite_by": "apalike",
   "current_citInitial": 1,
   "eqLabelWithNumbers": true,
   "eqNumInitial": 1,
   "hotkeys": {
    "equation": "Ctrl-E",
    "itemize": "Ctrl-I"
   },
   "labels_anchors": false,
   "latex_user_defs": false,
   "report_style_numbering": false,
   "user_envs_cfg": false
  },
  "nteract": {
   "version": "0.8.4"
  }
 },
 "nbformat": 4,
 "nbformat_minor": 4
}
